{
 "cells": [
  {
   "cell_type": "code",
   "execution_count": 1,
   "metadata": {},
   "outputs": [],
   "source": [
    "import numpy as np\n",
    "import matplotlib.pyplot as plt\n",
    "import pandas as pd"
   ]
  },
  {
   "cell_type": "code",
   "execution_count": 2,
   "metadata": {},
   "outputs": [],
   "source": [
    "dataset_train = pd.read_csv('Google_Stock_Price_Train.csv')"
   ]
  },
  {
   "cell_type": "code",
   "execution_count": 5,
   "metadata": {},
   "outputs": [],
   "source": [
    "training_set = dataset_train.iloc[:, 1:2].values"
   ]
  },
  {
   "cell_type": "code",
   "execution_count": 6,
   "metadata": {
    "scrolled": true
   },
   "outputs": [
    {
     "name": "stdout",
     "output_type": "stream",
     "text": [
      "[[325.25]\n",
      " [331.27]\n",
      " [329.83]\n",
      " ...\n",
      " [793.7 ]\n",
      " [783.33]\n",
      " [782.75]]\n"
     ]
    }
   ],
   "source": [
    "print(training_set)"
   ]
  },
  {
   "cell_type": "code",
   "execution_count": 8,
   "metadata": {},
   "outputs": [],
   "source": [
    "from sklearn.preprocessing import MinMaxScaler\n",
    "sc = MinMaxScaler(feature_range=(0,1))\n",
    "training_set_scale = sc.fit_transform(training_set)"
   ]
  },
  {
   "cell_type": "code",
   "execution_count": 11,
   "metadata": {},
   "outputs": [],
   "source": [
    "x_train = []\n",
    "y_train = []\n",
    "for i in range(60, 1258):\n",
    "    x_train.append(training_set_scale[i-60:i, 0])\n",
    "    y_train.append(training_set_scale[i, 0])\n",
    "x_train, y_train = np.array(x_train),np.array(y_train)"
   ]
  },
  {
   "cell_type": "code",
   "execution_count": 13,
   "metadata": {},
   "outputs": [
    {
     "name": "stdout",
     "output_type": "stream",
     "text": [
      "[[0.08581368 0.09701243 0.09433366 ... 0.07846566 0.08034452 0.08497656]\n",
      " [0.09701243 0.09433366 0.09156187 ... 0.08034452 0.08497656 0.08627874]\n",
      " [0.09433366 0.09156187 0.07984225 ... 0.08497656 0.08627874 0.08471612]\n",
      " ...\n",
      " [0.92106928 0.92438053 0.93048218 ... 0.95475854 0.95204256 0.95163331]\n",
      " [0.92438053 0.93048218 0.9299055  ... 0.95204256 0.95163331 0.95725128]\n",
      " [0.93048218 0.9299055  0.93113327 ... 0.95163331 0.95725128 0.93796041]]\n"
     ]
    }
   ],
   "source": [
    "print(x_train)"
   ]
  },
  {
   "cell_type": "code",
   "execution_count": 14,
   "metadata": {},
   "outputs": [
    {
     "name": "stdout",
     "output_type": "stream",
     "text": [
      "[0.08627874 0.08471612 0.07454052 ... 0.95725128 0.93796041 0.93688146]\n"
     ]
    }
   ],
   "source": [
    "print(y_train)"
   ]
  },
  {
   "cell_type": "code",
   "execution_count": 15,
   "metadata": {},
   "outputs": [],
   "source": [
    "x_train = np.reshape(x_train, [x_train.shape[0], x_train.shape[1], 1])"
   ]
  },
  {
   "cell_type": "code",
   "execution_count": 18,
   "metadata": {},
   "outputs": [
    {
     "data": {
      "text/plain": [
       "(1198, 60, 1)"
      ]
     },
     "execution_count": 18,
     "metadata": {},
     "output_type": "execute_result"
    }
   ],
   "source": [
    "x_train.shape"
   ]
  },
  {
   "cell_type": "code",
   "execution_count": 21,
   "metadata": {},
   "outputs": [],
   "source": [
    "from tensorflow.keras.models import Sequential\n",
    "from tensorflow.keras.layers import Dense\n",
    "from tensorflow.keras.layers import LSTM\n",
    "from tensorflow.keras.layers import Dropout"
   ]
  },
  {
   "cell_type": "code",
   "execution_count": 22,
   "metadata": {},
   "outputs": [],
   "source": [
    "regressor = Sequential()"
   ]
  },
  {
   "cell_type": "code",
   "execution_count": 23,
   "metadata": {},
   "outputs": [],
   "source": [
    "regressor.add(LSTM(units=50, return_sequences=True, input_shape = (x_train.shape[1],1)))\n",
    "regressor.add(Dropout(0.2))"
   ]
  },
  {
   "cell_type": "code",
   "execution_count": 24,
   "metadata": {},
   "outputs": [],
   "source": [
    "regressor.add(LSTM(units=50, return_sequences=True))\n",
    "regressor.add(Dropout(0.2))\n",
    "\n",
    "regressor.add(LSTM(units=50, return_sequences=True))\n",
    "regressor.add(Dropout(0.2))\n",
    "\n",
    "regressor.add(LSTM(units=50, return_sequences=False))\n",
    "regressor.add(Dropout(0.2))"
   ]
  },
  {
   "cell_type": "code",
   "execution_count": 26,
   "metadata": {},
   "outputs": [],
   "source": [
    "regressor.add(Dense(units=1))"
   ]
  },
  {
   "cell_type": "code",
   "execution_count": 27,
   "metadata": {},
   "outputs": [],
   "source": [
    "regressor.compile(optimizer= 'adam', loss = 'mean_squared_error')"
   ]
  },
  {
   "cell_type": "code",
   "execution_count": 28,
   "metadata": {
    "scrolled": true
   },
   "outputs": [
    {
     "name": "stdout",
     "output_type": "stream",
     "text": [
      "Epoch 1/100\n",
      "38/38 [==============================] - 6s 170ms/step - loss: 0.0389\n",
      "Epoch 2/100\n",
      "38/38 [==============================] - 6s 163ms/step - loss: 0.0077\n",
      "Epoch 3/100\n",
      "38/38 [==============================] - 6s 161ms/step - loss: 0.0060\n",
      "Epoch 4/100\n",
      "38/38 [==============================] - 6s 152ms/step - loss: 0.0056\n",
      "Epoch 5/100\n",
      "38/38 [==============================] - 6s 154ms/step - loss: 0.0050\n",
      "Epoch 6/100\n",
      "38/38 [==============================] - 6s 146ms/step - loss: 0.0050\n",
      "Epoch 7/100\n",
      "38/38 [==============================] - 6s 147ms/step - loss: 0.0049\n",
      "Epoch 8/100\n",
      "38/38 [==============================] - 6s 148ms/step - loss: 0.0053\n",
      "Epoch 9/100\n",
      "38/38 [==============================] - 6s 146ms/step - loss: 0.0049\n",
      "Epoch 10/100\n",
      "38/38 [==============================] - 6s 147ms/step - loss: 0.0048\n",
      "Epoch 11/100\n",
      "38/38 [==============================] - 6s 151ms/step - loss: 0.0048\n",
      "Epoch 12/100\n",
      "38/38 [==============================] - 6s 146ms/step - loss: 0.0039\n",
      "Epoch 13/100\n",
      "38/38 [==============================] - 6s 145ms/step - loss: 0.0040\n",
      "Epoch 14/100\n",
      "38/38 [==============================] - 5s 144ms/step - loss: 0.0042\n",
      "Epoch 15/100\n",
      "38/38 [==============================] - 5s 143ms/step - loss: 0.0045\n",
      "Epoch 16/100\n",
      "38/38 [==============================] - 5s 143ms/step - loss: 0.0047\n",
      "Epoch 17/100\n",
      "38/38 [==============================] - 6s 148ms/step - loss: 0.0038\n",
      "Epoch 18/100\n",
      "38/38 [==============================] - 6s 149ms/step - loss: 0.0035\n",
      "Epoch 19/100\n",
      "38/38 [==============================] - 5s 144ms/step - loss: 0.0034\n",
      "Epoch 20/100\n",
      "38/38 [==============================] - 6s 145ms/step - loss: 0.0039\n",
      "Epoch 21/100\n",
      "38/38 [==============================] - 6s 149ms/step - loss: 0.0035\n",
      "Epoch 22/100\n",
      "38/38 [==============================] - 6s 146ms/step - loss: 0.0034\n",
      "Epoch 23/100\n",
      "38/38 [==============================] - 6s 157ms/step - loss: 0.0031\n",
      "Epoch 24/100\n",
      "38/38 [==============================] - 6s 156ms/step - loss: 0.0034\n",
      "Epoch 25/100\n",
      "38/38 [==============================] - 7s 195ms/step - loss: 0.0033\n",
      "Epoch 26/100\n",
      "38/38 [==============================] - 7s 185ms/step - loss: 0.0027\n",
      "Epoch 27/100\n",
      "38/38 [==============================] - 6s 168ms/step - loss: 0.0029\n",
      "Epoch 28/100\n",
      "38/38 [==============================] - 6s 146ms/step - loss: 0.0031\n",
      "Epoch 29/100\n",
      "38/38 [==============================] - 6s 154ms/step - loss: 0.0032\n",
      "Epoch 30/100\n",
      "38/38 [==============================] - 6s 146ms/step - loss: 0.0027\n",
      "Epoch 31/100\n",
      "38/38 [==============================] - 6s 148ms/step - loss: 0.0028\n",
      "Epoch 32/100\n",
      "38/38 [==============================] - 6s 150ms/step - loss: 0.0027\n",
      "Epoch 33/100\n",
      "38/38 [==============================] - 6s 155ms/step - loss: 0.0028\n",
      "Epoch 34/100\n",
      "38/38 [==============================] - 6s 152ms/step - loss: 0.0026\n",
      "Epoch 35/100\n",
      "38/38 [==============================] - 7s 174ms/step - loss: 0.0028\n",
      "Epoch 36/100\n",
      "38/38 [==============================] - 6s 149ms/step - loss: 0.0023\n",
      "Epoch 37/100\n",
      "38/38 [==============================] - 5s 132ms/step - loss: 0.0024\n",
      "Epoch 38/100\n",
      "38/38 [==============================] - 5s 130ms/step - loss: 0.0025\n",
      "Epoch 39/100\n",
      "38/38 [==============================] - 5s 132ms/step - loss: 0.0027\n",
      "Epoch 40/100\n",
      "38/38 [==============================] - 5s 134ms/step - loss: 0.0028\n",
      "Epoch 41/100\n",
      "38/38 [==============================] - 5s 135ms/step - loss: 0.0025\n",
      "Epoch 42/100\n",
      "38/38 [==============================] - 5s 130ms/step - loss: 0.0028\n",
      "Epoch 43/100\n",
      "38/38 [==============================] - 5s 132ms/step - loss: 0.0025\n",
      "Epoch 44/100\n",
      "38/38 [==============================] - 5s 131ms/step - loss: 0.0023\n",
      "Epoch 45/100\n",
      "38/38 [==============================] - 5s 133ms/step - loss: 0.0027\n",
      "Epoch 46/100\n",
      "38/38 [==============================] - 5s 132ms/step - loss: 0.0022\n",
      "Epoch 47/100\n",
      "38/38 [==============================] - 5s 132ms/step - loss: 0.0023\n",
      "Epoch 48/100\n",
      "38/38 [==============================] - 5s 131ms/step - loss: 0.0024\n",
      "Epoch 49/100\n",
      "38/38 [==============================] - 5s 132ms/step - loss: 0.0022\n",
      "Epoch 50/100\n",
      "38/38 [==============================] - 5s 131ms/step - loss: 0.0021\n",
      "Epoch 51/100\n",
      "38/38 [==============================] - 5s 132ms/step - loss: 0.0026\n",
      "Epoch 52/100\n",
      "38/38 [==============================] - 5s 135ms/step - loss: 0.0027\n",
      "Epoch 53/100\n",
      "38/38 [==============================] - 5s 142ms/step - loss: 0.0021\n",
      "Epoch 54/100\n",
      "38/38 [==============================] - 5s 144ms/step - loss: 0.0025\n",
      "Epoch 55/100\n",
      "38/38 [==============================] - 5s 134ms/step - loss: 0.0021\n",
      "Epoch 56/100\n",
      "38/38 [==============================] - 5s 136ms/step - loss: 0.0020\n",
      "Epoch 57/100\n",
      "38/38 [==============================] - 5s 133ms/step - loss: 0.0020\n",
      "Epoch 58/100\n",
      "38/38 [==============================] - 5s 133ms/step - loss: 0.0021\n",
      "Epoch 59/100\n",
      "38/38 [==============================] - 5s 134ms/step - loss: 0.0019\n",
      "Epoch 60/100\n",
      "38/38 [==============================] - 5s 139ms/step - loss: 0.0021\n",
      "Epoch 61/100\n",
      "38/38 [==============================] - 5s 134ms/step - loss: 0.0020\n",
      "Epoch 62/100\n",
      "38/38 [==============================] - 5s 136ms/step - loss: 0.0021\n",
      "Epoch 63/100\n",
      "38/38 [==============================] - 5s 133ms/step - loss: 0.0020\n",
      "Epoch 64/100\n",
      "38/38 [==============================] - 5s 130ms/step - loss: 0.0018\n",
      "Epoch 65/100\n",
      "38/38 [==============================] - 5s 132ms/step - loss: 0.0016\n",
      "Epoch 66/100\n",
      "38/38 [==============================] - 5s 131ms/step - loss: 0.0018\n",
      "Epoch 67/100\n",
      "38/38 [==============================] - 5s 133ms/step - loss: 0.0022\n",
      "Epoch 68/100\n",
      "38/38 [==============================] - 5s 132ms/step - loss: 0.0019\n",
      "Epoch 69/100\n",
      "38/38 [==============================] - 5s 131ms/step - loss: 0.0018\n",
      "Epoch 70/100\n",
      "38/38 [==============================] - 5s 136ms/step - loss: 0.0018\n",
      "Epoch 71/100\n",
      "38/38 [==============================] - 5s 133ms/step - loss: 0.0017\n",
      "Epoch 72/100\n",
      "38/38 [==============================] - 5s 133ms/step - loss: 0.0018\n",
      "Epoch 73/100\n",
      "38/38 [==============================] - 5s 131ms/step - loss: 0.0019\n",
      "Epoch 74/100\n",
      "38/38 [==============================] - 5s 131ms/step - loss: 0.0017\n",
      "Epoch 75/100\n",
      "38/38 [==============================] - 5s 132ms/step - loss: 0.0017\n",
      "Epoch 76/100\n",
      "38/38 [==============================] - 5s 132ms/step - loss: 0.0019\n",
      "Epoch 77/100\n",
      "38/38 [==============================] - 5s 130ms/step - loss: 0.0019\n",
      "Epoch 78/100\n",
      "38/38 [==============================] - 5s 130ms/step - loss: 0.0017\n",
      "Epoch 79/100\n",
      "38/38 [==============================] - 5s 132ms/step - loss: 0.0019\n",
      "Epoch 80/100\n",
      "38/38 [==============================] - 5s 132ms/step - loss: 0.0017\n",
      "Epoch 81/100\n",
      "38/38 [==============================] - 5s 131ms/step - loss: 0.0016\n",
      "Epoch 82/100\n",
      "38/38 [==============================] - 5s 135ms/step - loss: 0.0018\n",
      "Epoch 83/100\n",
      "38/38 [==============================] - 5s 131ms/step - loss: 0.0014\n",
      "Epoch 84/100\n",
      "38/38 [==============================] - 5s 132ms/step - loss: 0.0015\n",
      "Epoch 85/100\n",
      "38/38 [==============================] - 5s 133ms/step - loss: 0.0018\n",
      "Epoch 86/100\n",
      "38/38 [==============================] - 5s 131ms/step - loss: 0.0015\n",
      "Epoch 87/100\n",
      "38/38 [==============================] - 5s 132ms/step - loss: 0.0015\n",
      "Epoch 88/100\n",
      "38/38 [==============================] - 5s 131ms/step - loss: 0.0015\n",
      "Epoch 89/100\n",
      "38/38 [==============================] - 5s 133ms/step - loss: 0.0015\n",
      "Epoch 90/100\n",
      "38/38 [==============================] - 5s 132ms/step - loss: 0.0016\n",
      "Epoch 91/100\n",
      "38/38 [==============================] - 5s 130ms/step - loss: 0.0016\n",
      "Epoch 92/100\n",
      "38/38 [==============================] - 5s 133ms/step - loss: 0.0015\n",
      "Epoch 93/100\n",
      "38/38 [==============================] - 5s 131ms/step - loss: 0.0013\n",
      "Epoch 94/100\n",
      "38/38 [==============================] - 5s 133ms/step - loss: 0.0014\n",
      "Epoch 95/100\n",
      "38/38 [==============================] - 5s 135ms/step - loss: 0.0014\n",
      "Epoch 96/100\n",
      "38/38 [==============================] - 5s 136ms/step - loss: 0.0014\n",
      "Epoch 97/100\n",
      "38/38 [==============================] - 5s 133ms/step - loss: 0.0013\n",
      "Epoch 98/100\n",
      "38/38 [==============================] - 5s 131ms/step - loss: 0.0013\n",
      "Epoch 99/100\n"
     ]
    },
    {
     "name": "stdout",
     "output_type": "stream",
     "text": [
      "38/38 [==============================] - 5s 132ms/step - loss: 0.0015\n",
      "Epoch 100/100\n",
      "38/38 [==============================] - 5s 131ms/step - loss: 0.0014\n"
     ]
    },
    {
     "data": {
      "text/plain": [
       "<tensorflow.python.keras.callbacks.History at 0x7fca41f50ac8>"
      ]
     },
     "execution_count": 28,
     "metadata": {},
     "output_type": "execute_result"
    }
   ],
   "source": [
    "regressor.fit(x_train, y_train, epochs = 100, batch_size = 32)"
   ]
  },
  {
   "cell_type": "code",
   "execution_count": 46,
   "metadata": {},
   "outputs": [],
   "source": [
    "dataset_test = pd.read_csv('Google_Stock_Price_Test.csv')\n",
    "real_stock_price = dataset_test.iloc[:, 1:2].values"
   ]
  },
  {
   "cell_type": "code",
   "execution_count": 47,
   "metadata": {},
   "outputs": [],
   "source": [
    "dataset_total = pd.concat((dataset_train['Open'], dataset_test['Open']), axis = 0)\n",
    "inputs = dataset_total[len(dataset_total) - len(dataset_test) - 60:].values\n",
    "inputs = inputs.reshape(-1,1)\n",
    "inputs = sc.transform(inputs)\n",
    "\n",
    "x_test = []\n",
    "for i in range(60, 80):\n",
    "    x_test.append(inputs[i-60:i, 0])\n",
    "x_test = np.array(x_test)\n",
    "\n",
    "x_test = np.reshape(x_test, [x_test.shape[0], x_test.shape[1], 1])"
   ]
  },
  {
   "cell_type": "code",
   "execution_count": 48,
   "metadata": {},
   "outputs": [],
   "source": [
    "predict_stock_price = regressor.predict(x_test)\n",
    "predict_stock_price = sc.inverse_transform(predict_stock_price)"
   ]
  },
  {
   "cell_type": "code",
   "execution_count": 49,
   "metadata": {},
   "outputs": [
    {
     "name": "stdout",
     "output_type": "stream",
     "text": [
      "[[775.4101 ]\n",
      " [772.5146 ]\n",
      " [773.62006]\n",
      " [775.5033 ]\n",
      " [779.0691 ]\n",
      " [785.14667]\n",
      " [789.8277 ]\n",
      " [790.4319 ]\n",
      " [789.7106 ]\n",
      " [789.3245 ]\n",
      " [789.4199 ]\n",
      " [789.4952 ]\n",
      " [789.5464 ]\n",
      " [790.3922 ]\n",
      " [791.56647]\n",
      " [797.12695]\n",
      " [804.59296]\n",
      " [811.5658 ]\n",
      " [813.85925]\n",
      " [806.9927 ]]\n"
     ]
    }
   ],
   "source": [
    "print(predict_stock_price)"
   ]
  },
  {
   "cell_type": "code",
   "execution_count": 50,
   "metadata": {},
   "outputs": [
    {
     "data": {
      "text/plain": [
       "(20, 1)"
      ]
     },
     "execution_count": 50,
     "metadata": {},
     "output_type": "execute_result"
    }
   ],
   "source": [
    "real_stock_price.shape"
   ]
  },
  {
   "cell_type": "code",
   "execution_count": 51,
   "metadata": {},
   "outputs": [
    {
     "data": {
      "image/png": "[encoded data removed]",
      "text/plain": [
       "<Figure size 432x288 with 1 Axes>"
      ]
     },
     "metadata": {
      "needs_background": "light"
     },
     "output_type": "display_data"
    }
   ],
   "source": [
    "plt.plot(real_stock_price, color = 'red', label = 'Real Google Stock Price')\n",
    "plt.plot(predict_stock_price, color = 'blue', label = 'Predicted Google Stock Price')\n",
    "plt.title('Stock Price Prediction')\n",
    "plt.xlabel('TIME')\n",
    "plt.ylabel('Open price')\n",
    "plt.legend()\n",
    "\n",
    "plt.show()"
   ]
  },
  {
   "cell_type": "code",
   "execution_count": 53,
   "metadata": {},
   "outputs": [],
   "source": [
    "import math\n",
    "from sklearn.metrics import mean_squared_error\n",
    "rmse = math.sqrt(mean_squared_error(real_stock_price, predict_stock_price))"
   ]
  },
  {
   "cell_type": "code",
   "execution_count": 54,
   "metadata": {},
   "outputs": [
    {
     "name": "stdout",
     "output_type": "stream",
     "text": [
      "20.065634589370298\n"
     ]
    }
   ],
   "source": [
    "print(rmse)"
   ]
  },
  {
   "cell_type": "code",
   "execution_count": null,
   "metadata": {},
   "outputs": [],
   "source": []
  }
 ],
 "metadata": {
  "kernelspec": {
   "display_name": "Python 3",
   "language": "python",
   "name": "python3"
  },
  "language_info": {
   "codemirror_mode": {
    "name": "ipython",
    "version": 3
   },
   "file_extension": ".py",
   "mimetype": "text/x-python",
   "name": "python",
   "nbconvert_exporter": "python",
   "pygments_lexer": "ipython3",
   "version": "3.7.3"
  }
 },
 "nbformat": 4,
 "nbformat_minor": 2
}
